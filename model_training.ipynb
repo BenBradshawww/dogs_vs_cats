{
 "cells": [
  {
   "cell_type": "code",
   "execution_count": 4,
   "metadata": {},
   "outputs": [],
   "source": [
    "import kaggle\n",
    "import pandas\n",
    "import os\n",
    "import re\n",
    "import random\n",
    "from PIL import Image\n",
    "import matplotlib.pyplot as plt\n",
    "import matplotlib.image as mpimg\n",
    "import warnings\n",
    "\n",
    "from torchvision.models import efficientnet_b0\n",
    "import torch\n",
    "import torch.nn.functional as F\n",
    "from torch.optim.lr_scheduler import ReduceLROnPlateau\n",
    "from tqdm import tqdm\n",
    "import numpy as np\n",
    "\n",
    "from model.model import efficient_net_b0\n",
    "from misc.train import train_model, test_model\n",
    "from misc.plotting import get_examples\n",
    "from misc.data_preprocessing import CustomImageDataset, get_statistics, download_data, create_dataloaders, get_dataloader_example\n"
   ]
  },
  {
   "cell_type": "code",
   "execution_count": null,
   "metadata": {},
   "outputs": [],
   "source": [
    "path = './data/'\n",
    "download_data(path)"
   ]
  },
  {
   "cell_type": "code",
   "execution_count": null,
   "metadata": {},
   "outputs": [],
   "source": [
    "get_examples(5)"
   ]
  },
  {
   "cell_type": "code",
   "execution_count": null,
   "metadata": {},
   "outputs": [],
   "source": [
    "# Train Statistics\n",
    "get_statistics('./data/training_set/training_set/')\n",
    "\n",
    "# Test Statistics\n",
    "get_statistics('./data/test_set/test_set/')"
   ]
  },
  {
   "cell_type": "code",
   "execution_count": null,
   "metadata": {},
   "outputs": [],
   "source": [
    "train_loader, val_loader, test_loader = create_dataloaders(\n",
    "\ttrain_directory_path=\"./data/training_set/training_set/\", \n",
    "\ttest_directory_path=\"./data/test_set/test_set/\", \n",
    "\tbatch_size=2,\n",
    "\tsplit=0.8\n",
    ")\n",
    "\n",
    "get_dataloader_example(train_loader)"
   ]
  },
  {
   "cell_type": "code",
   "execution_count": null,
   "metadata": {},
   "outputs": [],
   "source": [
    "# Our efficient net model\n",
    "model = efficient_net_b0()\n",
    "def count_parameters(model):\n",
    "    return sum(p.numel() for p in model.parameters() if p.requires_grad)\n",
    "\n",
    "total_params = count_parameters(model)\n",
    "print(f'Total number of parameters in our EfficientNet-B0: {total_params}')\n",
    " \n",
    "# Built in pytorch efficient net model\n",
    "model = efficientnet_b0(num_classes=2, pretrained=False)\n",
    "\n",
    "def count_parameters(model):\n",
    "    return sum(p.numel() for p in model.parameters() if p.requires_grad)\n",
    "\n",
    "total_params = count_parameters(model)\n",
    "print(f'Total number of parameters in official EfficientNet-B0: {total_params}')"
   ]
  },
  {
   "cell_type": "code",
   "execution_count": 10,
   "metadata": {},
   "outputs": [],
   "source": [
    "SEED = 42\n",
    "torch.manual_seed(SEED)\n",
    "np.random.seed(SEED)\n",
    "random.seed(SEED)\n",
    "\n",
    "device = torch.device('cuda' if torch.cuda.is_available() else 'cpu')\n",
    "model = efficient_net_b0()\n",
    "model = model.to(device)\n",
    "\n",
    "model_path = './model/model_weights.pth'\n",
    "'''\n",
    "if os.path.isfile(model_path):\n",
    "\tmodel.load_state_dict(torch.load(model_path)) \n",
    "\tprint('Model weights loaded from :', model_path)\n",
    "else:\n",
    "\tprint('No model weights were loaded')\n",
    "'''\n",
    "\n",
    "optimizer = torch.optim.Adam(\n",
    "\tparams=model.parameters(),\n",
    "\tlr=1e-4\n",
    ")\n",
    "\n",
    "scheduler = ReduceLROnPlateau(\n",
    "\toptimizer,\n",
    "\t'min',\n",
    "\tfactor=0.1,\n",
    "\tmin_lr=1e-6\n",
    ")"
   ]
  },
  {
   "cell_type": "code",
   "execution_count": null,
   "metadata": {},
   "outputs": [],
   "source": [
    "train_model(\n",
    "\tmodel,\n",
    "\toptimizer,\n",
    "\tscheduler=scheduler,\n",
    "\ttrain_loader=train_loader,\n",
    "\tval_loader=val_loader,\n",
    "\tmodel_path=model_path,\n",
    "\tepochs=200,\n",
    "\tpatience=25,\n",
    "\tthreshold=1e-4\n",
    ")"
   ]
  },
  {
   "cell_type": "code",
   "execution_count": null,
   "metadata": {},
   "outputs": [],
   "source": [
    "model.load_state_dict(torch.load(model_path, map_location=device))\n",
    "\n",
    "test_model(model, test_loader)"
   ]
  },
  {
   "cell_type": "code",
   "execution_count": null,
   "metadata": {},
   "outputs": [],
   "source": [
    "\n",
    "\n",
    "import zipfile\n",
    "\n",
    "# Path to your zip file\n",
    "zip_file_path = 'dogs_vs_cats_2.zip'\n",
    "\n",
    "# Unzipping the file\n",
    "with zipfile.ZipFile(zip_file_path, 'r') as zip_ref:\n",
    "    zip_ref.extractall('dogs_vs_cats_2')  # Specify the extraction path"
   ]
  },
  {
   "cell_type": "code",
   "execution_count": null,
   "metadata": {},
   "outputs": [],
   "source": []
  },
  {
   "cell_type": "code",
   "execution_count": null,
   "metadata": {},
   "outputs": [],
   "source": []
  }
 ],
 "metadata": {
  "kernelspec": {
   "display_name": "Python 3 (ipykernel)",
   "language": "python",
   "name": "python3"
  },
  "language_info": {
   "codemirror_mode": {
    "name": "ipython",
    "version": 3
   },
   "file_extension": ".py",
   "mimetype": "text/x-python",
   "name": "python",
   "nbconvert_exporter": "python",
   "pygments_lexer": "ipython3",
   "version": "3.10.14"
  }
 },
 "nbformat": 4,
 "nbformat_minor": 2
}
